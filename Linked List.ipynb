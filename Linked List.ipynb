{
 "cells": [
  {
   "cell_type": "markdown",
   "metadata": {},
   "source": [
    "### Singly Linked List"
   ]
  },
  {
   "cell_type": "code",
   "execution_count": 56,
   "metadata": {},
   "outputs": [],
   "source": [
    "class Node:\n",
    "    def __init__(self, nodeVal):\n",
    "        self.value = nodeVal\n",
    "        self.nextNode = None"
   ]
  },
  {
   "cell_type": "code",
   "execution_count": 178,
   "metadata": {},
   "outputs": [],
   "source": [
    "class SinglyLinkedList:\n",
    "    def __init__(self, value):\n",
    "        self.head = Node(value)\n",
    "    \n",
    "    # Push is to insert a node BEFORE the head - Time Complexity: O(1)\n",
    "    # 1. Find head node 2. Link new node to current header 3. Reassign header point to new node\n",
    "    def push(self, newVal):\n",
    "        tmp = Node(newVal)\n",
    "        tmp.nextNode = self.head\n",
    "        self.head = tmp\n",
    "    \n",
    "    # Check if value is inside Linked List\n",
    "    def find(self, value):\n",
    "        current = self.head\n",
    "        while current is not None:\n",
    "            if current.value == value:\n",
    "                return True\n",
    "            else:\n",
    "                current = current.nextNode\n",
    "        return False\n",
    "    \n",
    "    # Insert at the end of the linked list - Time Complexity: O(n)\n",
    "    def insert(self, newVal):\n",
    "        current = self.head\n",
    "        while current.nextNode is not None:\n",
    "            current = current.nextNode\n",
    "        current.nextNode = Node(newVal)\n",
    "    \n",
    "    # Delete a node in the linked list\n",
    "    def delete(self, deleteVal):\n",
    "        current = self.head\n",
    "        prev_node = None\n",
    "\n",
    "        while current.nextNode is not None:\n",
    "            if current == self.head and current.value == deleteVal:\n",
    "                self.head = current.nextNode\n",
    "                break\n",
    "            # if we find a match, we want to change the prev node's nextNode to the current node's nextNode\n",
    "            if current.value == deleteVal:\n",
    "                prev_node.nextNode = current.nextNode\n",
    "                break\n",
    "            else:\n",
    "                prev_node = current\n",
    "                current = current.nextNode\n",
    "    \n",
    "    # Print entire linked list out\n",
    "    def print(self):\n",
    "        current = self.head\n",
    "        while current is not None:\n",
    "            if current.value is not None:\n",
    "                print(current.value)\n",
    "            current = current.nextNode"
   ]
  },
  {
   "cell_type": "code",
   "execution_count": 188,
   "metadata": {},
   "outputs": [],
   "source": [
    "SLL = SinglyLinkedList(5)\n",
    "SLL.insert(10)\n",
    "SLL.insert(20)\n",
    "SLL.insert(22)\n",
    "SLL.insert(200)\n",
    "SLL.insert(400)\n",
    "SLL.push(350)"
   ]
  },
  {
   "cell_type": "code",
   "execution_count": 189,
   "metadata": {},
   "outputs": [
    {
     "name": "stdout",
     "output_type": "stream",
     "text": [
      "350\n",
      "5\n",
      "10\n",
      "20\n",
      "22\n",
      "200\n",
      "400\n"
     ]
    }
   ],
   "source": [
    "SLL.print()"
   ]
  },
  {
   "cell_type": "code",
   "execution_count": 190,
   "metadata": {},
   "outputs": [],
   "source": [
    "SLL.delete(22)"
   ]
  },
  {
   "cell_type": "code",
   "execution_count": 191,
   "metadata": {},
   "outputs": [
    {
     "name": "stdout",
     "output_type": "stream",
     "text": [
      "350\n",
      "5\n",
      "10\n",
      "20\n",
      "200\n",
      "400\n"
     ]
    }
   ],
   "source": [
    "SLL.print()"
   ]
  },
  {
   "cell_type": "code",
   "execution_count": null,
   "metadata": {},
   "outputs": [],
   "source": []
  }
 ],
 "metadata": {
  "kernelspec": {
   "display_name": "Python 3",
   "language": "python",
   "name": "python3"
  },
  "language_info": {
   "codemirror_mode": {
    "name": "ipython",
    "version": 3
   },
   "file_extension": ".py",
   "mimetype": "text/x-python",
   "name": "python",
   "nbconvert_exporter": "python",
   "pygments_lexer": "ipython3",
   "version": "3.6.8"
  }
 },
 "nbformat": 4,
 "nbformat_minor": 2
}
