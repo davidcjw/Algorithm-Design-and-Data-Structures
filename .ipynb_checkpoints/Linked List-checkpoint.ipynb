{
 "cells": [
  {
   "cell_type": "markdown",
   "metadata": {},
   "source": [
    "### Singly Linked List"
   ]
  },
  {
   "cell_type": "code",
   "execution_count": 1,
   "metadata": {},
   "outputs": [],
   "source": [
    "class Node:\n",
    "    def __init__(self, nodeVal):\n",
    "        self.value = nodeVal\n",
    "        self.nextNode = None\n",
    "        \n",
    "    def getValue(self):\n",
    "        return self.value\n",
    "    \n",
    "    def getNextNode(self):\n",
    "        return self.nextNode\n",
    "    \n",
    "    def setNextNode(self, item):\n",
    "        self.nextNode = item"
   ]
  },
  {
   "cell_type": "code",
   "execution_count": 26,
   "metadata": {},
   "outputs": [],
   "source": [
    "class SinglyLinkedList:\n",
    "    def __init__(self, value):\n",
    "        self.head = Node(value)\n",
    "    \n",
    "    # Push is to insert a node BEFORE the head - Time Complexity: O(1)\n",
    "    # 1. Find head node 2. Link new node to current header 3. Reassign header point to new node\n",
    "    def push(self, newVal):\n",
    "        tmp = Node(newVal)\n",
    "        tmp.setNextNode = self.head\n",
    "        self.head = tmp\n",
    "    \n",
    "    # Check if value is inside Linked List\n",
    "    def find(self, value):\n",
    "        current = self.head\n",
    "        while current is not None:\n",
    "            if current == value:\n",
    "                return True\n",
    "            else:\n",
    "                current = current.nextNode\n",
    "        return False\n",
    "    \n",
    "    # Insert at the end of the linked list - Time Complexity: O(n)\n",
    "    def insert(self, newVal):\n",
    "        current = self.head\n",
    "        while current.nextNode is not None:\n",
    "            current = current.nextNode\n",
    "        current.nextNode = Node(newVal)\n",
    "    \n",
    "    # Delete a node in the linked list and shift other nodes\n",
    "    def delete(self, deleteVal):\n",
    "        current = self.head\n",
    "        tmp = None\n",
    "        while current is not None:\n",
    "            if current == deleteVal:\n",
    "                tmp = current.nextNode\n",
    "    \n",
    "    # Print entire linked list out\n",
    "    def print(self):\n",
    "        current = self.head\n",
    "        while current is not None:\n",
    "            if current.value is not None:\n",
    "                print(current.value)\n",
    "            current = current.nextNode"
   ]
  },
  {
   "cell_type": "code",
   "execution_count": 27,
   "metadata": {},
   "outputs": [],
   "source": [
    "SLL = SinglyLinkedList(None)"
   ]
  },
  {
   "cell_type": "code",
   "execution_count": 38,
   "metadata": {},
   "outputs": [],
   "source": [
    "SLL.insert(10)"
   ]
  },
  {
   "cell_type": "code",
   "execution_count": 39,
   "metadata": {},
   "outputs": [],
   "source": [
    "SLL.insert(20)"
   ]
  },
  {
   "cell_type": "code",
   "execution_count": 36,
   "metadata": {},
   "outputs": [],
   "source": [
    "SLL.insert(22)"
   ]
  },
  {
   "cell_type": "code",
   "execution_count": 41,
   "metadata": {},
   "outputs": [],
   "source": [
    "SLL.push(5)"
   ]
  },
  {
   "cell_type": "code",
   "execution_count": 42,
   "metadata": {},
   "outputs": [
    {
     "name": "stdout",
     "output_type": "stream",
     "text": [
      "5\n"
     ]
    }
   ],
   "source": [
    "SLL.print()"
   ]
  },
  {
   "cell_type": "code",
   "execution_count": null,
   "metadata": {},
   "outputs": [],
   "source": []
  }
 ],
 "metadata": {
  "kernelspec": {
   "display_name": "Python 3",
   "language": "python",
   "name": "python3"
  },
  "language_info": {
   "codemirror_mode": {
    "name": "ipython",
    "version": 3
   },
   "file_extension": ".py",
   "mimetype": "text/x-python",
   "name": "python",
   "nbconvert_exporter": "python",
   "pygments_lexer": "ipython3",
   "version": "3.6.8"
  }
 },
 "nbformat": 4,
 "nbformat_minor": 2
}
